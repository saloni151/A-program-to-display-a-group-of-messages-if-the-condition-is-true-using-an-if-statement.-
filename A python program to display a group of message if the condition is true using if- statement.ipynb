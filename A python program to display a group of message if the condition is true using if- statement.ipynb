{
 "cells": [
  {
   "cell_type": "markdown",
   "id": "f569eac4-1b73-4061-8c7a-467be454511d",
   "metadata": {},
   "source": [
    "**Write a python program to display a group of message if the condition is true using if- statement**"
   ]
  },
  {
   "cell_type": "code",
   "execution_count": 1,
   "id": "c361ce70-aca0-4ad7-b56a-b93855b55639",
   "metadata": {},
   "outputs": [],
   "source": [
    "#Giving input to the object msg\n",
    "msg=\"Python Programming language\""
   ]
  },
  {
   "cell_type": "code",
   "execution_count": 2,
   "id": "33fc6a6e-1d5a-4cad-9993-6064c3201b40",
   "metadata": {},
   "outputs": [
    {
     "name": "stdout",
     "output_type": "stream",
     "text": [
      "You are a student\n",
      "You are learning new skill\n",
      "Your future will be bright\n"
     ]
    }
   ],
   "source": [
    "#Using an if statement to display the group of messages if the condition is true\n",
    "if(msg==\"Python Programming language\"):\n",
    "    print(\"You are a student\")\n",
    "    print(\"You are learning new skill\")\n",
    "    print(\"Your future will be bright\")"
   ]
  },
  {
   "cell_type": "code",
   "execution_count": null,
   "id": "87013491-3290-43c1-a007-2905cf2acfc7",
   "metadata": {},
   "outputs": [],
   "source": []
  },
  {
   "cell_type": "code",
   "execution_count": null,
   "id": "c6c63bf9-9c7e-4ecf-bd80-9ec8bcac938d",
   "metadata": {},
   "outputs": [],
   "source": []
  },
  {
   "cell_type": "code",
   "execution_count": null,
   "id": "3dd4624f-7524-4ff7-9f18-c42312b2431a",
   "metadata": {},
   "outputs": [],
   "source": []
  },
  {
   "cell_type": "code",
   "execution_count": null,
   "id": "96971c49-e012-4ca5-bdf6-b327dc784d04",
   "metadata": {},
   "outputs": [],
   "source": []
  },
  {
   "cell_type": "code",
   "execution_count": null,
   "id": "998270b1-29b9-425c-93af-5b22af3ed8f0",
   "metadata": {},
   "outputs": [],
   "source": []
  },
  {
   "cell_type": "code",
   "execution_count": null,
   "id": "0ea8763b-d8a8-420f-9818-92b5ce8219d3",
   "metadata": {},
   "outputs": [],
   "source": []
  },
  {
   "cell_type": "code",
   "execution_count": null,
   "id": "114d3fdc-9d57-41f8-b8f9-183250d9b406",
   "metadata": {},
   "outputs": [],
   "source": []
  },
  {
   "cell_type": "code",
   "execution_count": null,
   "id": "2340b2bf-9f74-489a-bed7-b97763ed8f53",
   "metadata": {},
   "outputs": [],
   "source": []
  },
  {
   "cell_type": "code",
   "execution_count": null,
   "id": "d6d66e81-fbe8-498a-b699-6635bba68742",
   "metadata": {},
   "outputs": [],
   "source": []
  },
  {
   "cell_type": "code",
   "execution_count": null,
   "id": "f4d0c38b-0828-47ad-b338-60601e63fb9c",
   "metadata": {},
   "outputs": [],
   "source": []
  },
  {
   "cell_type": "code",
   "execution_count": null,
   "id": "6e60e112-85bf-4052-8d79-9d50f13319a9",
   "metadata": {},
   "outputs": [],
   "source": []
  }
 ],
 "metadata": {
  "kernelspec": {
   "display_name": "Python 3 (ipykernel)",
   "language": "python",
   "name": "python3"
  },
  "language_info": {
   "codemirror_mode": {
    "name": "ipython",
    "version": 3
   },
   "file_extension": ".py",
   "mimetype": "text/x-python",
   "name": "python",
   "nbconvert_exporter": "python",
   "pygments_lexer": "ipython3",
   "version": "3.12.7"
  }
 },
 "nbformat": 4,
 "nbformat_minor": 5
}
